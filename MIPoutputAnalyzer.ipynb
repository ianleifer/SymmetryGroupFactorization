{
 "cells": [
  {
   "cell_type": "code",
   "execution_count": 1,
   "metadata": {},
   "outputs": [
    {
     "data": {
      "application/javascript": [
       "\n",
       "IPython.tab_as_tab_everywhere = function(use_tabs) {\n",
       "    if (use_tabs === undefined) {\n",
       "        use_tabs = true;\n",
       "    }\n",
       "\n",
       "    // apply setting to all current CodeMirror instances\n",
       "    IPython.notebook.get_cells().map(\n",
       "        function(c) {  return c.code_mirror.options.indentWithTabs=use_tabs;  }\n",
       "    );\n",
       "    // make sure new CodeMirror instances created in the future also use this setting\n",
       "    CodeMirror.defaults.indentWithTabs=use_tabs;\n",
       "\n",
       "    };\n",
       "\n",
       "IPython.tab_as_tab_everywhere()\n"
      ],
      "text/plain": [
       "<IPython.core.display.Javascript object>"
      ]
     },
     "metadata": {},
     "output_type": "display_data"
    }
   ],
   "source": [
    "%%javascript\n",
    "\n",
    "IPython.tab_as_tab_everywhere = function(use_tabs) {\n",
    "    if (use_tabs === undefined) {\n",
    "        use_tabs = true;\n",
    "    }\n",
    "\n",
    "    // apply setting to all current CodeMirror instances\n",
    "    IPython.notebook.get_cells().map(\n",
    "        function(c) {  return c.code_mirror.options.indentWithTabs=use_tabs;  }\n",
    "    );\n",
    "    // make sure new CodeMirror instances created in the future also use this setting\n",
    "    CodeMirror.defaults.indentWithTabs=use_tabs;\n",
    "\n",
    "    };\n",
    "\n",
    "IPython.tab_as_tab_everywhere()"
   ]
  },
  {
   "cell_type": "code",
   "execution_count": 2,
   "metadata": {},
   "outputs": [
    {
     "name": "stdout",
     "output_type": "stream",
     "text": [
      "Running  ../DATA/INTEGER-PROGRAM-COST-EDGES/INPUT/c_bw_no_05_12/run_c_bw_no_nc_8.txt\n",
      "Running  ../DATA/INTEGER-PROGRAM-COST-EDGES/INPUT/c_bw_no_05_12/run_c_bw_no_nc_14.txt\n",
      "Running  ../DATA/INTEGER-PROGRAM-COST-EDGES/INPUT/c_bw_no_05_12/run_c_bw_no_nc_12.txt\n",
      "Running  ../DATA/INTEGER-PROGRAM-COST-EDGES/INPUT/c_bw_no_05_12/run_c_bw_no_nc_9.txt\n",
      "Running  ../DATA/INTEGER-PROGRAM-COST-EDGES/INPUT/c_bw_no_05_12/run_c_bw_no_nc_13.txt\n",
      "Running  ../DATA/INTEGER-PROGRAM-COST-EDGES/INPUT/c_bw_no_05_12/run_c_bw_no_nc_6.txt\n",
      "Running  ../DATA/INTEGER-PROGRAM-COST-EDGES/INPUT/c_bw_no_05_12/run_c_bw_no_nc_17.txt\n",
      "Running  ../DATA/INTEGER-PROGRAM-COST-EDGES/INPUT/c_bw_no_05_12/run_c_bw_no_nc_16.txt\n",
      "Running  ../DATA/INTEGER-PROGRAM-COST-EDGES/INPUT/c_bw_no_05_12/run_c_bw_no_nc_10.txt\n",
      "Running  ../DATA/INTEGER-PROGRAM-COST-EDGES/INPUT/c_bw_no_05_12/run_c_bw_no_nc_7.txt\n",
      "Running  ../DATA/INTEGER-PROGRAM-COST-EDGES/INPUT/c_bw_no_05_12/run_c_bw_no_nc_11.txt\n",
      "Running  ../DATA/INTEGER-PROGRAM-COST-EDGES/INPUT/c_bw_no_05_12/run_c_bw_no_nc_15.txt\n"
     ]
    }
   ],
   "source": [
    "from functions import *\n",
    "\n",
    "#folderToRun = \"../DATA/INTEGER-PROGRAM-COST-EDGES/INPUT/c_bw_no_05_12\"\n",
    "#outputFolder = \"../DATA/INTEGER-PROGRAM-COST-EDGES/OUTPUT/c_bw_no_05_12\"\n",
    "folderToRun = \"../DATA/INTEGER-PROGRAM-COST-EDGES/INPUT/c_fw_no_07_06\"\n",
    "outputFolder = \"../DATA/INTEGER-PROGRAM-COST-EDGES/OUTPUT/c_fw_no_07_06\"\n",
    "#folderToRun = \"../DATA/INTEGER-PROGRAM-COST-ONE-OVER-MAX-DEGREE/INPUT/c_bw_no_05_19\"\n",
    "#outputFolder = \"../DATA/INTEGER-PROGRAM-COST-ONE-OVER-MAX-DEGREE/OUTPUT/c_bw_no_05_19\"\n",
    "\n",
    "runFolder(folderToRun, outputFolder)"
   ]
  },
  {
   "cell_type": "code",
   "execution_count": 1,
   "metadata": {},
   "outputs": [
    {
     "name": "stdout",
     "output_type": "stream",
     "text": [
      "Running  test/test.txt\n",
      "  Name Orbit  Sector\n",
      "0    a   2_0       2\n",
      "1    c   1_1       1\n",
      "2    b   2_0       2\n",
      "3    e   1_1       1\n",
      "4    d   2_0       2\n",
      "Fiedler value =  1.9999999999999998\n",
      "Normalized Fiedler value =  1.0\n",
      "Eigen ratio =  0.3999999999999998\n",
      "Mean epsilon =  5.0\n",
      "Max epsilon =  8.0\n",
      "\n",
      "Class:\n",
      "\t S2\n",
      "Mean epsilon = \t 8.0\n",
      "Max epsilon = \t 8.0\n",
      "Sector:\n",
      "\t ['c', 'e']\n",
      "Orbits ( 1 ):\n",
      "\t 0 :\t ['c', 'e']\n",
      "Permutations:\n",
      "\tEpsilon =  8.0 :\t [['c', 'e']]\n",
      "\n",
      "Class:\n",
      "\t S3\n",
      "Mean epsilon = \t 2.0\n",
      "Max epsilon = \t 4.0\n",
      "Sector:\n",
      "\t ['a', 'b', 'd']\n",
      "Orbits ( 1 ):\n",
      "\t 0 :\t ['a', 'b', 'd']\n",
      "Permutations:\n",
      "\tEpsilon =  4.0 :\t [['b', 'd']]\n",
      "\tEpsilon =  0.0 :\t [['a', 'b']]\n",
      "\n"
     ]
    }
   ],
   "source": [
    "from functions import *\n",
    "\n",
    "fileName = \"test/test.txt\"\n",
    "#fileName = \"../DATA/INTEGER-PROGRAM-COST-EDGES/INPUT/c_fw_no_07_06/run_c_fw_no_nc_9.txt\"\n",
    "\n",
    "runFile(fileName)"
   ]
  }
 ],
 "metadata": {
  "kernelspec": {
   "display_name": "SageMath 9.2",
   "language": "sage",
   "name": "sagemath"
  },
  "language_info": {
   "codemirror_mode": {
    "name": "ipython",
    "version": 3
   },
   "file_extension": ".py",
   "mimetype": "text/x-python",
   "name": "python",
   "nbconvert_exporter": "python",
   "pygments_lexer": "ipython3",
   "version": "3.8.5"
  }
 },
 "nbformat": 4,
 "nbformat_minor": 4
}
